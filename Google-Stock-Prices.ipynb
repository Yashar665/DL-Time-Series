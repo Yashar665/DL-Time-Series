{
 "cells": [
  {
   "cell_type": "markdown",
   "metadata": {
    "colab_type": "text",
    "id": "yeGFzihZhUc3"
   },
   "source": [
    "# **Stock Exhange Predictions with LSTM**"
   ]
  },
  {
   "cell_type": "code",
   "execution_count": 0,
   "metadata": {
    "colab": {},
    "colab_type": "code",
    "id": "Sejs02ZGhUc5"
   },
   "outputs": [],
   "source": [
    "import os\n",
    "import sys\n",
    "import math\n",
    "import random\n",
    "import warnings\n",
    "\n",
    "import pandas as pd\n",
    "import numpy as np\n",
    "\n",
    "import matplotlib.pyplot as plt\n",
    "\n",
    "from sklearn.preprocessing import MinMaxScaler, StandardScaler\n",
    "from sklearn.metrics import mean_squared_error\n",
    "\n",
    "from tensorflow.keras.models import Sequential\n",
    "from tensorflow.keras.layers import Dense , BatchNormalization , Dropout , Activation\n",
    "from tensorflow.keras.layers import LSTM , GRU\n",
    "from tensorflow.keras.optimizers import Adam , SGD , RMSprop\n",
    "from tensorflow.keras.callbacks import ReduceLROnPlateau , ModelCheckpoint\n",
    "from tensorflow.keras.models import load_model\n",
    "\n",
    "warnings.filterwarnings('ignore')\n",
    "\n",
    "pd.options.display.max_columns = 1000\n",
    "pd.options.display.max_rows = 10000\n",
    "pd.options.display.max_colwidth = -1\n",
    "\n",
    "def seed_everything(seed=0):\n",
    "    random.seed(seed)\n",
    "    os.environ['PYTHONHASHSEED'] = str(seed)\n",
    "    np.random.seed(seed)\n",
    "\n",
    "RANDOM_STATE = 313\n",
    "seed_everything(seed=RANDOM_STATE)"
   ]
  },
  {
   "cell_type": "markdown",
   "metadata": {
    "colab_type": "text",
    "id": "9mYByHh5hUc8"
   },
   "source": [
    "### Exploratory Data Analysis"
   ]
  },
  {
   "cell_type": "code",
   "execution_count": 2,
   "metadata": {
    "colab": {
     "base_uri": "https://localhost:8080/",
     "height": 131,
     "resources": {
      "http://localhost:8080/nbextensions/google.colab/files.js": {
       "data": "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",
       "headers": [
        [
         "content-type",
         "application/javascript"
        ]
       ],
       "ok": true,
       "status": 200,
       "status_text": ""
      }
     }
    },
    "colab_type": "code",
    "id": "PEzsqo1m0_PT",
    "outputId": "aadfe8e5-9621-4911-d116-8093996f40d4"
   },
   "outputs": [
    {
     "data": {
      "text/html": [
       "\n",
       "     <input type=\"file\" id=\"files-093f61c9-b186-4d4d-a7f5-3da611a1441a\" name=\"files[]\" multiple disabled />\n",
       "     <output id=\"result-093f61c9-b186-4d4d-a7f5-3da611a1441a\">\n",
       "      Upload widget is only available when the cell has been executed in the\n",
       "      current browser session. Please rerun this cell to enable.\n",
       "      </output>\n",
       "      <script src=\"/nbextensions/google.colab/files.js\"></script> "
      ],
      "text/plain": [
       "<IPython.core.display.HTML object>"
      ]
     },
     "metadata": {
      "tags": []
     },
     "output_type": "display_data"
    },
    {
     "name": "stdout",
     "output_type": "stream",
     "text": [
      "Saving trainset.csv to trainset.csv\n"
     ]
    },
    {
     "data": {
      "text/html": [
       "\n",
       "     <input type=\"file\" id=\"files-cf3d0da7-42ec-4804-ac6f-9d0e286da308\" name=\"files[]\" multiple disabled />\n",
       "     <output id=\"result-cf3d0da7-42ec-4804-ac6f-9d0e286da308\">\n",
       "      Upload widget is only available when the cell has been executed in the\n",
       "      current browser session. Please rerun this cell to enable.\n",
       "      </output>\n",
       "      <script src=\"/nbextensions/google.colab/files.js\"></script> "
      ],
      "text/plain": [
       "<IPython.core.display.HTML object>"
      ]
     },
     "metadata": {
      "tags": []
     },
     "output_type": "display_data"
    },
    {
     "name": "stdout",
     "output_type": "stream",
     "text": [
      "Saving testset.csv to testset.csv\n"
     ]
    }
   ],
   "source": [
    "from google.colab import files\n",
    "train = files.upload()\n",
    "test = files.upload()"
   ]
  },
  {
   "cell_type": "code",
   "execution_count": 0,
   "metadata": {
    "colab": {},
    "colab_type": "code",
    "id": "tz26clS-hUc9"
   },
   "outputs": [],
   "source": [
    "train = pd.read_csv('trainset.csv')\n",
    "test = pd.read_csv('testset.csv')"
   ]
  },
  {
   "cell_type": "code",
   "execution_count": 7,
   "metadata": {
    "colab": {
     "base_uri": "https://localhost:8080/",
     "height": 204
    },
    "colab_type": "code",
    "id": "TVFVAA65hUdA",
    "outputId": "27a5330f-ded9-4633-e3c5-bffbac40198f"
   },
   "outputs": [
    {
     "data": {
      "text/html": [
       "<div>\n",
       "<style scoped>\n",
       "    .dataframe tbody tr th:only-of-type {\n",
       "        vertical-align: middle;\n",
       "    }\n",
       "\n",
       "    .dataframe tbody tr th {\n",
       "        vertical-align: top;\n",
       "    }\n",
       "\n",
       "    .dataframe thead th {\n",
       "        text-align: right;\n",
       "    }\n",
       "</style>\n",
       "<table border=\"1\" class=\"dataframe\">\n",
       "  <thead>\n",
       "    <tr style=\"text-align: right;\">\n",
       "      <th></th>\n",
       "      <th>Date</th>\n",
       "      <th>Open</th>\n",
       "      <th>High</th>\n",
       "      <th>Low</th>\n",
       "      <th>Close</th>\n",
       "      <th>Adj Close</th>\n",
       "      <th>Volume</th>\n",
       "    </tr>\n",
       "  </thead>\n",
       "  <tbody>\n",
       "    <tr>\n",
       "      <th>0</th>\n",
       "      <td>2013-01-02</td>\n",
       "      <td>357.385559</td>\n",
       "      <td>361.151062</td>\n",
       "      <td>355.959839</td>\n",
       "      <td>359.288177</td>\n",
       "      <td>359.288177</td>\n",
       "      <td>5115500</td>\n",
       "    </tr>\n",
       "    <tr>\n",
       "      <th>1</th>\n",
       "      <td>2013-01-03</td>\n",
       "      <td>360.122742</td>\n",
       "      <td>363.600128</td>\n",
       "      <td>358.031342</td>\n",
       "      <td>359.496826</td>\n",
       "      <td>359.496826</td>\n",
       "      <td>4666500</td>\n",
       "    </tr>\n",
       "    <tr>\n",
       "      <th>2</th>\n",
       "      <td>2013-01-04</td>\n",
       "      <td>362.313507</td>\n",
       "      <td>368.339294</td>\n",
       "      <td>361.488861</td>\n",
       "      <td>366.600616</td>\n",
       "      <td>366.600616</td>\n",
       "      <td>5562800</td>\n",
       "    </tr>\n",
       "    <tr>\n",
       "      <th>3</th>\n",
       "      <td>2013-01-07</td>\n",
       "      <td>365.348755</td>\n",
       "      <td>367.301056</td>\n",
       "      <td>362.929504</td>\n",
       "      <td>365.001007</td>\n",
       "      <td>365.001007</td>\n",
       "      <td>3332900</td>\n",
       "    </tr>\n",
       "    <tr>\n",
       "      <th>4</th>\n",
       "      <td>2013-01-08</td>\n",
       "      <td>365.393463</td>\n",
       "      <td>365.771027</td>\n",
       "      <td>359.874359</td>\n",
       "      <td>364.280701</td>\n",
       "      <td>364.280701</td>\n",
       "      <td>3373900</td>\n",
       "    </tr>\n",
       "  </tbody>\n",
       "</table>\n",
       "</div>"
      ],
      "text/plain": [
       "         Date        Open        High         Low       Close   Adj Close  \\\n",
       "0  2013-01-02  357.385559  361.151062  355.959839  359.288177  359.288177   \n",
       "1  2013-01-03  360.122742  363.600128  358.031342  359.496826  359.496826   \n",
       "2  2013-01-04  362.313507  368.339294  361.488861  366.600616  366.600616   \n",
       "3  2013-01-07  365.348755  367.301056  362.929504  365.001007  365.001007   \n",
       "4  2013-01-08  365.393463  365.771027  359.874359  364.280701  364.280701   \n",
       "\n",
       "    Volume  \n",
       "0  5115500  \n",
       "1  4666500  \n",
       "2  5562800  \n",
       "3  3332900  \n",
       "4  3373900  "
      ]
     },
     "execution_count": 7,
     "metadata": {
      "tags": []
     },
     "output_type": "execute_result"
    }
   ],
   "source": [
    "train.head()"
   ]
  },
  {
   "cell_type": "code",
   "execution_count": 8,
   "metadata": {
    "colab": {
     "base_uri": "https://localhost:8080/",
     "height": 255
    },
    "colab_type": "code",
    "id": "dKhRY7mWhUdC",
    "outputId": "7ae4d81f-f96c-47ed-ac32-65187f5423cb"
   },
   "outputs": [
    {
     "name": "stdout",
     "output_type": "stream",
     "text": [
      "<class 'pandas.core.frame.DataFrame'>\n",
      "RangeIndex: 1259 entries, 0 to 1258\n",
      "Data columns (total 7 columns):\n",
      " #   Column     Non-Null Count  Dtype  \n",
      "---  ------     --------------  -----  \n",
      " 0   Date       1259 non-null   object \n",
      " 1   Open       1259 non-null   float64\n",
      " 2   High       1259 non-null   float64\n",
      " 3   Low        1259 non-null   float64\n",
      " 4   Close      1259 non-null   float64\n",
      " 5   Adj Close  1259 non-null   float64\n",
      " 6   Volume     1259 non-null   int64  \n",
      "dtypes: float64(5), int64(1), object(1)\n",
      "memory usage: 69.0+ KB\n"
     ]
    }
   ],
   "source": [
    "train.info()"
   ]
  },
  {
   "cell_type": "code",
   "execution_count": 9,
   "metadata": {
    "colab": {
     "base_uri": "https://localhost:8080/",
     "height": 153
    },
    "colab_type": "code",
    "id": "_qNPlblihUdF",
    "outputId": "367e2039-3e63-42fc-a8e2-c0123a9948a9"
   },
   "outputs": [
    {
     "data": {
      "text/plain": [
       "Date         object \n",
       "Open         float64\n",
       "High         float64\n",
       "Low          float64\n",
       "Close        float64\n",
       "Adj Close    float64\n",
       "Volume       int64  \n",
       "dtype: object"
      ]
     },
     "execution_count": 9,
     "metadata": {
      "tags": []
     },
     "output_type": "execute_result"
    }
   ],
   "source": [
    "train.dtypes"
   ]
  },
  {
   "cell_type": "code",
   "execution_count": 10,
   "metadata": {
    "colab": {
     "base_uri": "https://localhost:8080/",
     "height": 390
    },
    "colab_type": "code",
    "id": "q-z2YI4PhUdH",
    "outputId": "d13a30d0-0081-4b6c-fa65-5afa714b4b3a"
   },
   "outputs": [
    {
     "data": {
      "text/html": [
       "<div>\n",
       "<style scoped>\n",
       "    .dataframe tbody tr th:only-of-type {\n",
       "        vertical-align: middle;\n",
       "    }\n",
       "\n",
       "    .dataframe tbody tr th {\n",
       "        vertical-align: top;\n",
       "    }\n",
       "\n",
       "    .dataframe thead th {\n",
       "        text-align: right;\n",
       "    }\n",
       "</style>\n",
       "<table border=\"1\" class=\"dataframe\">\n",
       "  <thead>\n",
       "    <tr style=\"text-align: right;\">\n",
       "      <th></th>\n",
       "      <th>Date</th>\n",
       "      <th>Open</th>\n",
       "      <th>High</th>\n",
       "      <th>Low</th>\n",
       "      <th>Close</th>\n",
       "      <th>Adj Close</th>\n",
       "      <th>Volume</th>\n",
       "    </tr>\n",
       "  </thead>\n",
       "  <tbody>\n",
       "    <tr>\n",
       "      <th>count</th>\n",
       "      <td>1259</td>\n",
       "      <td>1259.000000</td>\n",
       "      <td>1259.000000</td>\n",
       "      <td>1259.000000</td>\n",
       "      <td>1259.000000</td>\n",
       "      <td>1259.000000</td>\n",
       "      <td>1.259000e+03</td>\n",
       "    </tr>\n",
       "    <tr>\n",
       "      <th>unique</th>\n",
       "      <td>1259</td>\n",
       "      <td>NaN</td>\n",
       "      <td>NaN</td>\n",
       "      <td>NaN</td>\n",
       "      <td>NaN</td>\n",
       "      <td>NaN</td>\n",
       "      <td>NaN</td>\n",
       "    </tr>\n",
       "    <tr>\n",
       "      <th>top</th>\n",
       "      <td>2013-07-12</td>\n",
       "      <td>NaN</td>\n",
       "      <td>NaN</td>\n",
       "      <td>NaN</td>\n",
       "      <td>NaN</td>\n",
       "      <td>NaN</td>\n",
       "      <td>NaN</td>\n",
       "    </tr>\n",
       "    <tr>\n",
       "      <th>freq</th>\n",
       "      <td>1</td>\n",
       "      <td>NaN</td>\n",
       "      <td>NaN</td>\n",
       "      <td>NaN</td>\n",
       "      <td>NaN</td>\n",
       "      <td>NaN</td>\n",
       "      <td>NaN</td>\n",
       "    </tr>\n",
       "    <tr>\n",
       "      <th>mean</th>\n",
       "      <td>NaN</td>\n",
       "      <td>652.704082</td>\n",
       "      <td>657.475653</td>\n",
       "      <td>647.433700</td>\n",
       "      <td>652.657015</td>\n",
       "      <td>652.657015</td>\n",
       "      <td>2.414928e+06</td>\n",
       "    </tr>\n",
       "    <tr>\n",
       "      <th>std</th>\n",
       "      <td>NaN</td>\n",
       "      <td>175.630574</td>\n",
       "      <td>176.627416</td>\n",
       "      <td>174.732814</td>\n",
       "      <td>175.820993</td>\n",
       "      <td>175.820993</td>\n",
       "      <td>1.672160e+06</td>\n",
       "    </tr>\n",
       "    <tr>\n",
       "      <th>min</th>\n",
       "      <td>NaN</td>\n",
       "      <td>350.053253</td>\n",
       "      <td>350.391052</td>\n",
       "      <td>345.512787</td>\n",
       "      <td>349.164032</td>\n",
       "      <td>349.164032</td>\n",
       "      <td>7.900000e+03</td>\n",
       "    </tr>\n",
       "    <tr>\n",
       "      <th>25%</th>\n",
       "      <td>NaN</td>\n",
       "      <td>528.287079</td>\n",
       "      <td>532.615204</td>\n",
       "      <td>524.232483</td>\n",
       "      <td>528.429413</td>\n",
       "      <td>528.429413</td>\n",
       "      <td>1.336900e+06</td>\n",
       "    </tr>\n",
       "    <tr>\n",
       "      <th>50%</th>\n",
       "      <td>NaN</td>\n",
       "      <td>600.002563</td>\n",
       "      <td>603.236511</td>\n",
       "      <td>594.453674</td>\n",
       "      <td>598.005554</td>\n",
       "      <td>598.005554</td>\n",
       "      <td>1.842300e+06</td>\n",
       "    </tr>\n",
       "    <tr>\n",
       "      <th>75%</th>\n",
       "      <td>NaN</td>\n",
       "      <td>774.015015</td>\n",
       "      <td>779.120025</td>\n",
       "      <td>768.662506</td>\n",
       "      <td>772.720002</td>\n",
       "      <td>772.720002</td>\n",
       "      <td>3.090850e+06</td>\n",
       "    </tr>\n",
       "    <tr>\n",
       "      <th>max</th>\n",
       "      <td>NaN</td>\n",
       "      <td>1075.199951</td>\n",
       "      <td>1078.489990</td>\n",
       "      <td>1063.550049</td>\n",
       "      <td>1077.140015</td>\n",
       "      <td>1077.140015</td>\n",
       "      <td>2.328310e+07</td>\n",
       "    </tr>\n",
       "  </tbody>\n",
       "</table>\n",
       "</div>"
      ],
      "text/plain": [
       "              Date         Open         High          Low        Close  \\\n",
       "count   1259        1259.000000  1259.000000  1259.000000  1259.000000   \n",
       "unique  1259       NaN          NaN          NaN          NaN            \n",
       "top     2013-07-12 NaN          NaN          NaN          NaN            \n",
       "freq    1          NaN          NaN          NaN          NaN            \n",
       "mean    NaN         652.704082   657.475653   647.433700   652.657015    \n",
       "std     NaN         175.630574   176.627416   174.732814   175.820993    \n",
       "min     NaN         350.053253   350.391052   345.512787   349.164032    \n",
       "25%     NaN         528.287079   532.615204   524.232483   528.429413    \n",
       "50%     NaN         600.002563   603.236511   594.453674   598.005554    \n",
       "75%     NaN         774.015015   779.120025   768.662506   772.720002    \n",
       "max     NaN         1075.199951  1078.489990  1063.550049  1077.140015   \n",
       "\n",
       "          Adj Close        Volume  \n",
       "count   1259.000000  1.259000e+03  \n",
       "unique NaN          NaN            \n",
       "top    NaN          NaN            \n",
       "freq   NaN          NaN            \n",
       "mean    652.657015   2.414928e+06  \n",
       "std     175.820993   1.672160e+06  \n",
       "min     349.164032   7.900000e+03  \n",
       "25%     528.429413   1.336900e+06  \n",
       "50%     598.005554   1.842300e+06  \n",
       "75%     772.720002   3.090850e+06  \n",
       "max     1077.140015  2.328310e+07  "
      ]
     },
     "execution_count": 10,
     "metadata": {
      "tags": []
     },
     "output_type": "execute_result"
    }
   ],
   "source": [
    "train.describe(include='all')"
   ]
  },
  {
   "cell_type": "code",
   "execution_count": 14,
   "metadata": {
    "colab": {
     "base_uri": "https://localhost:8080/",
     "height": 153
    },
    "colab_type": "code",
    "id": "X2d6FBrOhUdN",
    "outputId": "f8324dcb-2b47-4614-fb26-de5b919c2bdc"
   },
   "outputs": [
    {
     "data": {
      "text/plain": [
       "Date         0\n",
       "Open         0\n",
       "High         0\n",
       "Low          0\n",
       "Close        0\n",
       "Adj Close    0\n",
       "Volume       0\n",
       "dtype: int64"
      ]
     },
     "execution_count": 14,
     "metadata": {
      "tags": []
     },
     "output_type": "execute_result"
    }
   ],
   "source": [
    "train.isnull().sum()"
   ]
  },
  {
   "cell_type": "code",
   "execution_count": 15,
   "metadata": {
    "colab": {
     "base_uri": "https://localhost:8080/",
     "height": 153
    },
    "colab_type": "code",
    "id": "9fqK8VMzDzlV",
    "outputId": "b0aa5754-3592-486b-ca50-2c60b6e59001"
   },
   "outputs": [
    {
     "data": {
      "text/plain": [
       "Date         0\n",
       "Open         0\n",
       "High         0\n",
       "Low          0\n",
       "Close        0\n",
       "Adj Close    0\n",
       "Volume       0\n",
       "dtype: int64"
      ]
     },
     "execution_count": 15,
     "metadata": {
      "tags": []
     },
     "output_type": "execute_result"
    }
   ],
   "source": [
    "test.isnull().sum()"
   ]
  },
  {
   "cell_type": "code",
   "execution_count": 24,
   "metadata": {
    "colab": {
     "base_uri": "https://localhost:8080/",
     "height": 602
    },
    "colab_type": "code",
    "id": "f3ZOtcIzhUdS",
    "outputId": "cb33bae1-39ff-4511-fbf9-1ad85c4724a6"
   },
   "outputs": [
    {
     "data": {
      "image/png": "[encoded data removed]",
      "text/plain": [
       "<Figure size 1152x576 with 2 Axes>"
      ]
     },
     "metadata": {
      "needs_background": "light",
      "tags": []
     },
     "output_type": "display_data"
    },
    {
     "name": "stdout",
     "output_type": "stream",
     "text": [
      "correlation: 0.9992\n"
     ]
    }
   ],
   "source": [
    "def plotter(df):\n",
    "    open_values = df.Open.values.astype('float32').reshape(-1, 1)\n",
    "    close_values = df.Close.values.astype('float32').reshape(-1, 1)\n",
    "    \n",
    "    fig, axes = plt.subplots(2, 1, figsize=(16, 8))\n",
    "    axes[0].set_xlabel('Time')\n",
    "    axes[0].set_ylabel('Prices')\n",
    "    axes[0].set_title('Google open stock prices')\n",
    "    axes[0].plot(open_values , 'g')\n",
    "    axes[0].xaxis.set_tick_params(rotation=270)\n",
    "    \n",
    "\n",
    "    axes[1].set_xlabel('Time')\n",
    "    axes[1].set_ylabel('Prices')\n",
    "    axes[1].set_title('Google close stock prices')\n",
    "    axes[1].plot(close_values , 'b')\n",
    "    axes[1].xaxis.set_tick_params(rotation=270)\n",
    "    \n",
    "    fig.tight_layout()\n",
    "    plt.grid(True)\n",
    "    plt.show()\n",
    "\n",
    "plotter(train)\n",
    "\n",
    "print(f\"correlation: {np.around(train[['Open', 'Close']].corr().values[0, 1], 4)}\")"
   ]
  },
  {
   "cell_type": "markdown",
   "metadata": {
    "colab_type": "text",
    "id": "UY3RHLKPhUdU"
   },
   "source": [
    "### Preprocessing"
   ]
  },
  {
   "cell_type": "code",
   "execution_count": 0,
   "metadata": {
    "colab": {},
    "colab_type": "code",
    "id": "H-Ye-iOxhUdV"
   },
   "outputs": [],
   "source": [
    "train = train['Close']\n",
    "train_mean = train.mean()\n",
    "train = train - train_mean\n",
    "scaler = MinMaxScaler(feature_range=(0, 1))\n",
    "train = np.array(train)\n",
    "train = train.reshape(-1,1)\n",
    "train = scaler.fit_transform(train)"
   ]
  },
  {
   "cell_type": "code",
   "execution_count": 0,
   "metadata": {
    "colab": {},
    "colab_type": "code",
    "id": "rR6icgycH82e"
   },
   "outputs": [],
   "source": [
    "test = train['Close']\n",
    "test_mean = test.mean()\n",
    "test = test - test_mean\n",
    "scaler = MinMaxScaler(feature_range=(0, 1))\n",
    "test = np.array(test)\n",
    "test = test.reshape(-1,1)\n",
    "test = scaler.fit_transform(test)"
   ]
  },
  {
   "cell_type": "code",
   "execution_count": 69,
   "metadata": {
    "colab": {
     "base_uri": "https://localhost:8080/",
     "height": 297
    },
    "colab_type": "code",
    "id": "hiwERkYzhUdY",
    "outputId": "dbf5a736-d76a-421e-9e0c-51ce1fd55b98"
   },
   "outputs": [
    {
     "data": {
      "text/html": [
       "<div>\n",
       "<style scoped>\n",
       "    .dataframe tbody tr th:only-of-type {\n",
       "        vertical-align: middle;\n",
       "    }\n",
       "\n",
       "    .dataframe tbody tr th {\n",
       "        vertical-align: top;\n",
       "    }\n",
       "\n",
       "    .dataframe thead th {\n",
       "        text-align: right;\n",
       "    }\n",
       "</style>\n",
       "<table border=\"1\" class=\"dataframe\">\n",
       "  <thead>\n",
       "    <tr style=\"text-align: right;\">\n",
       "      <th></th>\n",
       "      <th>0</th>\n",
       "    </tr>\n",
       "  </thead>\n",
       "  <tbody>\n",
       "    <tr>\n",
       "      <th>count</th>\n",
       "      <td>1259.000000</td>\n",
       "    </tr>\n",
       "    <tr>\n",
       "      <th>mean</th>\n",
       "      <td>0.416900</td>\n",
       "    </tr>\n",
       "    <tr>\n",
       "      <th>std</th>\n",
       "      <td>0.241520</td>\n",
       "    </tr>\n",
       "    <tr>\n",
       "      <th>min</th>\n",
       "      <td>0.000000</td>\n",
       "    </tr>\n",
       "    <tr>\n",
       "      <th>25%</th>\n",
       "      <td>0.246252</td>\n",
       "    </tr>\n",
       "    <tr>\n",
       "      <th>50%</th>\n",
       "      <td>0.341827</td>\n",
       "    </tr>\n",
       "    <tr>\n",
       "      <th>75%</th>\n",
       "      <td>0.581827</td>\n",
       "    </tr>\n",
       "    <tr>\n",
       "      <th>max</th>\n",
       "      <td>1.000000</td>\n",
       "    </tr>\n",
       "  </tbody>\n",
       "</table>\n",
       "</div>"
      ],
      "text/plain": [
       "                 0\n",
       "count  1259.000000\n",
       "mean   0.416900   \n",
       "std    0.241520   \n",
       "min    0.000000   \n",
       "25%    0.246252   \n",
       "50%    0.341827   \n",
       "75%    0.581827   \n",
       "max    1.000000   "
      ]
     },
     "execution_count": 69,
     "metadata": {
      "tags": []
     },
     "output_type": "execute_result"
    }
   ],
   "source": [
    "pd.DataFrame(train).describe()"
   ]
  },
  {
   "cell_type": "code",
   "execution_count": 70,
   "metadata": {
    "colab": {
     "base_uri": "https://localhost:8080/",
     "height": 297
    },
    "colab_type": "code",
    "id": "ln2eCzVMIHju",
    "outputId": "b2bb58aa-8e31-4c71-b65a-0903dd5c5f15"
   },
   "outputs": [
    {
     "data": {
      "text/html": [
       "<div>\n",
       "<style scoped>\n",
       "    .dataframe tbody tr th:only-of-type {\n",
       "        vertical-align: middle;\n",
       "    }\n",
       "\n",
       "    .dataframe tbody tr th {\n",
       "        vertical-align: top;\n",
       "    }\n",
       "\n",
       "    .dataframe thead th {\n",
       "        text-align: right;\n",
       "    }\n",
       "</style>\n",
       "<table border=\"1\" class=\"dataframe\">\n",
       "  <thead>\n",
       "    <tr style=\"text-align: right;\">\n",
       "      <th></th>\n",
       "      <th>0</th>\n",
       "    </tr>\n",
       "  </thead>\n",
       "  <tbody>\n",
       "    <tr>\n",
       "      <th>count</th>\n",
       "      <td>1259.000000</td>\n",
       "    </tr>\n",
       "    <tr>\n",
       "      <th>mean</th>\n",
       "      <td>0.416900</td>\n",
       "    </tr>\n",
       "    <tr>\n",
       "      <th>std</th>\n",
       "      <td>0.241520</td>\n",
       "    </tr>\n",
       "    <tr>\n",
       "      <th>min</th>\n",
       "      <td>0.000000</td>\n",
       "    </tr>\n",
       "    <tr>\n",
       "      <th>25%</th>\n",
       "      <td>0.246252</td>\n",
       "    </tr>\n",
       "    <tr>\n",
       "      <th>50%</th>\n",
       "      <td>0.341827</td>\n",
       "    </tr>\n",
       "    <tr>\n",
       "      <th>75%</th>\n",
       "      <td>0.581827</td>\n",
       "    </tr>\n",
       "    <tr>\n",
       "      <th>max</th>\n",
       "      <td>1.000000</td>\n",
       "    </tr>\n",
       "  </tbody>\n",
       "</table>\n",
       "</div>"
      ],
      "text/plain": [
       "                 0\n",
       "count  1259.000000\n",
       "mean   0.416900   \n",
       "std    0.241520   \n",
       "min    0.000000   \n",
       "25%    0.246252   \n",
       "50%    0.341827   \n",
       "75%    0.581827   \n",
       "max    1.000000   "
      ]
     },
     "execution_count": 70,
     "metadata": {
      "tags": []
     },
     "output_type": "execute_result"
    }
   ],
   "source": [
    "pd.DataFrame(test).describe()"
   ]
  },
  {
   "cell_type": "code",
   "execution_count": 71,
   "metadata": {
    "colab": {
     "base_uri": "https://localhost:8080/",
     "height": 315
    },
    "colab_type": "code",
    "id": "SHXq69xuhUda",
    "outputId": "2ec9b458-f983-492c-eeb8-b922e92bb1df"
   },
   "outputs": [
    {
     "data": {
      "text/plain": [
       "array([[<matplotlib.axes._subplots.AxesSubplot object at 0x7fd73970ebe0>]],\n",
       "      dtype=object)"
      ]
     },
     "execution_count": 71,
     "metadata": {
      "tags": []
     },
     "output_type": "execute_result"
    },
    {
     "data": {
      "image/png": "[encoded data removed]",
      "text/plain": [
       "<Figure size 432x288 with 1 Axes>"
      ]
     },
     "metadata": {
      "needs_background": "light",
      "tags": []
     },
     "output_type": "display_data"
    }
   ],
   "source": [
    "pd.DataFrame(train).hist(bins=100)"
   ]
  },
  {
   "cell_type": "code",
   "execution_count": 72,
   "metadata": {
    "colab": {
     "base_uri": "https://localhost:8080/",
     "height": 315
    },
    "colab_type": "code",
    "id": "htRHDlDcIOHl",
    "outputId": "f2d8cb95-a1e2-42b3-deb0-c07ddec17f76"
   },
   "outputs": [
    {
     "data": {
      "text/plain": [
       "array([[<matplotlib.axes._subplots.AxesSubplot object at 0x7fd73958da58>]],\n",
       "      dtype=object)"
      ]
     },
     "execution_count": 72,
     "metadata": {
      "tags": []
     },
     "output_type": "execute_result"
    },
    {
     "data": {
      "image/png": "[encoded data removed]",
      "text/plain": [
       "<Figure size 432x288 with 1 Axes>"
      ]
     },
     "metadata": {
      "needs_background": "light",
      "tags": []
     },
     "output_type": "display_data"
    }
   ],
   "source": [
    "pd.DataFrame(test).hist(bins=100)"
   ]
  },
  {
   "cell_type": "markdown",
   "metadata": {
    "colab_type": "text",
    "id": "Q0PSfsFIhUdc"
   },
   "source": [
    "### Modeling"
   ]
  },
  {
   "cell_type": "code",
   "execution_count": 73,
   "metadata": {
    "colab": {
     "base_uri": "https://localhost:8080/",
     "height": 34
    },
    "colab_type": "code",
    "id": "PpdYtG9PhUdd",
    "outputId": "903d2519-db6f-4150-9f68-00c4769b4b9a"
   },
   "outputs": [
    {
     "data": {
      "text/plain": [
       "((1259, 1), (1259, 1))"
      ]
     },
     "execution_count": 73,
     "metadata": {
      "tags": []
     },
     "output_type": "execute_result"
    }
   ],
   "source": [
    "train.shape, test.shape"
   ]
  },
  {
   "cell_type": "code",
   "execution_count": 0,
   "metadata": {
    "colab": {},
    "colab_type": "code",
    "id": "0kk86hw3hUdf"
   },
   "outputs": [],
   "source": [
    "def process_data(data, n_steps):\n",
    "    X, y = list(), list()\n",
    "    for i in range(len(data) - n_steps):\n",
    "        sequence = data[i : (i + n_steps), 0]\n",
    "        X.append(sequence)\n",
    "        y.append(data[i + n_steps, 0])\n",
    "    return np.array(X), np.array(y)"
   ]
  },
  {
   "cell_type": "code",
   "execution_count": 75,
   "metadata": {
    "colab": {
     "base_uri": "https://localhost:8080/",
     "height": 34
    },
    "colab_type": "code",
    "id": "-Iw6X3nfhUdi",
    "outputId": "02131212-c2f2-4126-c227-779a6833b1a4"
   },
   "outputs": [
    {
     "name": "stdout",
     "output_type": "stream",
     "text": [
      "(1257, 2) (1257,) (1257, 2) (1257,)\n"
     ]
    }
   ],
   "source": [
    "n_steps = 2\n",
    "X_train, y_train = process_data(train, n_steps)\n",
    "X_test, y_test = process_data(test, n_steps)\n",
    "\n",
    "print(X_train.shape, y_train.shape, X_test.shape, y_test.shape)"
   ]
  },
  {
   "cell_type": "code",
   "execution_count": 0,
   "metadata": {
    "colab": {},
    "colab_type": "code",
    "id": "LLLc6SGshUdl"
   },
   "outputs": [],
   "source": [
    "X_train = X_train[..., np.newaxis]\n",
    "X_test = X_test[..., np.newaxis]"
   ]
  },
  {
   "cell_type": "code",
   "execution_count": 0,
   "metadata": {
    "colab": {},
    "colab_type": "code",
    "id": "HWt8EjxchUdn"
   },
   "outputs": [],
   "source": [
    "filepath = './model.h5'\n",
    "lr_reduce = ReduceLROnPlateau(monitor='val_loss', factor=0.8, min_delta=0.0001, patience=10, verbose=1)\n",
    "checkpoint = ModelCheckpoint(filepath, monitor='val_loss', verbose=1, save_best_only=True, mode='min')"
   ]
  },
  {
   "cell_type": "code",
   "execution_count": 78,
   "metadata": {
    "colab": {
     "base_uri": "https://localhost:8080/",
     "height": 408
    },
    "colab_type": "code",
    "id": "wsXUnLCxhUdp",
    "outputId": "6cf739d2-24b6-4fff-e6fe-312a35016cd3"
   },
   "outputs": [
    {
     "name": "stdout",
     "output_type": "stream",
     "text": [
      "Model: \"sequential\"\n",
      "_________________________________________________________________\n",
      "Layer (type)                 Output Shape              Param #   \n",
      "=================================================================\n",
      "gru (GRU)                    (None, 2, 256)            198912    \n",
      "_________________________________________________________________\n",
      "dropout (Dropout)            (None, 2, 256)            0         \n",
      "_________________________________________________________________\n",
      "lstm (LSTM)                  (None, 256)               525312    \n",
      "_________________________________________________________________\n",
      "dropout_1 (Dropout)          (None, 256)               0         \n",
      "_________________________________________________________________\n",
      "dense (Dense)                (None, 64)                16448     \n",
      "_________________________________________________________________\n",
      "dense_1 (Dense)              (None, 32)                2080      \n",
      "_________________________________________________________________\n",
      "dense_2 (Dense)              (None, 1)                 33        \n",
      "=================================================================\n",
      "Total params: 742,785\n",
      "Trainable params: 742,785\n",
      "Non-trainable params: 0\n",
      "_________________________________________________________________\n",
      "None\n"
     ]
    }
   ],
   "source": [
    "model = Sequential()\n",
    "model.add(GRU(256 , input_shape=(n_steps, 1) , return_sequences=True))\n",
    "model.add(Dropout(0.2))\n",
    "model.add(LSTM(256))\n",
    "model.add(Dropout(0.2))\n",
    "model.add(Dense(64 ,  activation = 'relu'))\n",
    "model.add(Dense(32 ,  activation = 'relu'))\n",
    "model.add(Dense(1))\n",
    "print(model.summary())"
   ]
  },
  {
   "cell_type": "code",
   "execution_count": 0,
   "metadata": {
    "colab": {},
    "colab_type": "code",
    "id": "dyym5PIghUdr"
   },
   "outputs": [],
   "source": [
    "model.compile(loss='mean_squared_error', optimizer=RMSprop(lr = 0.0001) , metrics = ['mean_squared_error'])"
   ]
  },
  {
   "cell_type": "code",
   "execution_count": 80,
   "metadata": {
    "colab": {
     "base_uri": "https://localhost:8080/",
     "height": 1000
    },
    "colab_type": "code",
    "id": "8Hl6xcIQhUdt",
    "outputId": "4237280c-a9bc-482b-f76f-af661315ae2f"
   },
   "outputs": [
    {
     "name": "stdout",
     "output_type": "stream",
     "text": [
      "Epoch 1/100\n",
      "5/5 [==============================] - ETA: 0s - loss: 0.2073 - mean_squared_error: 0.2073\n",
      "Epoch 00001: val_loss improved from inf to 0.17443, saving model to ./model.h5\n",
      "5/5 [==============================] - 1s 224ms/step - loss: 0.2073 - mean_squared_error: 0.2073 - val_loss: 0.1744 - val_mean_squared_error: 0.1744 - lr: 1.0000e-04\n",
      "Epoch 2/100\n",
      "5/5 [==============================] - ETA: 0s - loss: 0.1603 - mean_squared_error: 0.1603\n",
      "Epoch 00002: val_loss improved from 0.17443 to 0.13471, saving model to ./model.h5\n",
      "5/5 [==============================] - 0s 89ms/step - loss: 0.1603 - mean_squared_error: 0.1603 - val_loss: 0.1347 - val_mean_squared_error: 0.1347 - lr: 1.0000e-04\n",
      "Epoch 3/100\n",
      "5/5 [==============================] - ETA: 0s - loss: 0.1236 - mean_squared_error: 0.1236\n",
      "Epoch 00003: val_loss improved from 0.13471 to 0.10257, saving model to ./model.h5\n",
      "5/5 [==============================] - 0s 87ms/step - loss: 0.1236 - mean_squared_error: 0.1236 - val_loss: 0.1026 - val_mean_squared_error: 0.1026 - lr: 1.0000e-04\n",
      "Epoch 4/100\n",
      "5/5 [==============================] - ETA: 0s - loss: 0.0927 - mean_squared_error: 0.0927\n",
      "Epoch 00004: val_loss improved from 0.10257 to 0.07311, saving model to ./model.h5\n",
      "5/5 [==============================] - 1s 116ms/step - loss: 0.0927 - mean_squared_error: 0.0927 - val_loss: 0.0731 - val_mean_squared_error: 0.0731 - lr: 1.0000e-04\n",
      "Epoch 5/100\n",
      "5/5 [==============================] - ETA: 0s - loss: 0.0651 - mean_squared_error: 0.0651\n",
      "Epoch 00005: val_loss improved from 0.07311 to 0.04799, saving model to ./model.h5\n",
      "5/5 [==============================] - 0s 90ms/step - loss: 0.0651 - mean_squared_error: 0.0651 - val_loss: 0.0480 - val_mean_squared_error: 0.0480 - lr: 1.0000e-04\n",
      "Epoch 6/100\n",
      "5/5 [==============================] - ETA: 0s - loss: 0.0417 - mean_squared_error: 0.0417\n",
      "Epoch 00006: val_loss improved from 0.04799 to 0.02869, saving model to ./model.h5\n",
      "5/5 [==============================] - 0s 88ms/step - loss: 0.0417 - mean_squared_error: 0.0417 - val_loss: 0.0287 - val_mean_squared_error: 0.0287 - lr: 1.0000e-04\n",
      "Epoch 7/100\n",
      "5/5 [==============================] - ETA: 0s - loss: 0.0249 - mean_squared_error: 0.0249\n",
      "Epoch 00007: val_loss improved from 0.02869 to 0.01602, saving model to ./model.h5\n",
      "5/5 [==============================] - 0s 88ms/step - loss: 0.0249 - mean_squared_error: 0.0249 - val_loss: 0.0160 - val_mean_squared_error: 0.0160 - lr: 1.0000e-04\n",
      "Epoch 8/100\n",
      "5/5 [==============================] - ETA: 0s - loss: 0.0143 - mean_squared_error: 0.0143\n",
      "Epoch 00008: val_loss improved from 0.01602 to 0.00983, saving model to ./model.h5\n",
      "5/5 [==============================] - 0s 88ms/step - loss: 0.0143 - mean_squared_error: 0.0143 - val_loss: 0.0098 - val_mean_squared_error: 0.0098 - lr: 1.0000e-04\n",
      "Epoch 9/100\n",
      "5/5 [==============================] - ETA: 0s - loss: 0.0097 - mean_squared_error: 0.0097\n",
      "Epoch 00009: val_loss improved from 0.00983 to 0.00774, saving model to ./model.h5\n",
      "5/5 [==============================] - 0s 89ms/step - loss: 0.0097 - mean_squared_error: 0.0097 - val_loss: 0.0077 - val_mean_squared_error: 0.0077 - lr: 1.0000e-04\n",
      "Epoch 10/100\n",
      "5/5 [==============================] - ETA: 0s - loss: 0.0081 - mean_squared_error: 0.0081\n",
      "Epoch 00010: val_loss improved from 0.00774 to 0.00679, saving model to ./model.h5\n",
      "5/5 [==============================] - 0s 87ms/step - loss: 0.0081 - mean_squared_error: 0.0081 - val_loss: 0.0068 - val_mean_squared_error: 0.0068 - lr: 1.0000e-04\n",
      "Epoch 11/100\n",
      "5/5 [==============================] - ETA: 0s - loss: 0.0070 - mean_squared_error: 0.0070\n",
      "Epoch 00011: val_loss improved from 0.00679 to 0.00592, saving model to ./model.h5\n",
      "5/5 [==============================] - 0s 86ms/step - loss: 0.0070 - mean_squared_error: 0.0070 - val_loss: 0.0059 - val_mean_squared_error: 0.0059 - lr: 1.0000e-04\n",
      "Epoch 12/100\n",
      "5/5 [==============================] - ETA: 0s - loss: 0.0061 - mean_squared_error: 0.0061\n",
      "Epoch 00012: val_loss improved from 0.00592 to 0.00493, saving model to ./model.h5\n",
      "5/5 [==============================] - 1s 107ms/step - loss: 0.0061 - mean_squared_error: 0.0061 - val_loss: 0.0049 - val_mean_squared_error: 0.0049 - lr: 1.0000e-04\n",
      "Epoch 13/100\n",
      "5/5 [==============================] - ETA: 0s - loss: 0.0052 - mean_squared_error: 0.0052\n",
      "Epoch 00013: val_loss improved from 0.00493 to 0.00393, saving model to ./model.h5\n",
      "5/5 [==============================] - 0s 87ms/step - loss: 0.0052 - mean_squared_error: 0.0052 - val_loss: 0.0039 - val_mean_squared_error: 0.0039 - lr: 1.0000e-04\n",
      "Epoch 14/100\n",
      "5/5 [==============================] - ETA: 0s - loss: 0.0041 - mean_squared_error: 0.0041\n",
      "Epoch 00014: val_loss improved from 0.00393 to 0.00301, saving model to ./model.h5\n",
      "5/5 [==============================] - 0s 87ms/step - loss: 0.0041 - mean_squared_error: 0.0041 - val_loss: 0.0030 - val_mean_squared_error: 0.0030 - lr: 1.0000e-04\n",
      "Epoch 15/100\n",
      "5/5 [==============================] - ETA: 0s - loss: 0.0033 - mean_squared_error: 0.0033\n",
      "Epoch 00015: val_loss improved from 0.00301 to 0.00215, saving model to ./model.h5\n",
      "5/5 [==============================] - 0s 93ms/step - loss: 0.0033 - mean_squared_error: 0.0033 - val_loss: 0.0021 - val_mean_squared_error: 0.0021 - lr: 1.0000e-04\n",
      "Epoch 16/100\n",
      "5/5 [==============================] - ETA: 0s - loss: 0.0025 - mean_squared_error: 0.0025\n",
      "Epoch 00016: val_loss improved from 0.00215 to 0.00146, saving model to ./model.h5\n",
      "5/5 [==============================] - 0s 86ms/step - loss: 0.0025 - mean_squared_error: 0.0025 - val_loss: 0.0015 - val_mean_squared_error: 0.0015 - lr: 1.0000e-04\n",
      "Epoch 17/100\n",
      "5/5 [==============================] - ETA: 0s - loss: 0.0019 - mean_squared_error: 0.0019\n",
      "Epoch 00017: val_loss improved from 0.00146 to 0.00091, saving model to ./model.h5\n",
      "5/5 [==============================] - 0s 87ms/step - loss: 0.0019 - mean_squared_error: 0.0019 - val_loss: 9.1428e-04 - val_mean_squared_error: 9.1428e-04 - lr: 1.0000e-04\n",
      "Epoch 18/100\n",
      "5/5 [==============================] - ETA: 0s - loss: 0.0014 - mean_squared_error: 0.0014\n",
      "Epoch 00018: val_loss improved from 0.00091 to 0.00063, saving model to ./model.h5\n",
      "5/5 [==============================] - 0s 87ms/step - loss: 0.0014 - mean_squared_error: 0.0014 - val_loss: 6.2800e-04 - val_mean_squared_error: 6.2800e-04 - lr: 1.0000e-04\n",
      "Epoch 19/100\n",
      "5/5 [==============================] - ETA: 0s - loss: 0.0011 - mean_squared_error: 0.0011\n",
      "Epoch 00019: val_loss improved from 0.00063 to 0.00041, saving model to ./model.h5\n",
      "5/5 [==============================] - 0s 90ms/step - loss: 0.0011 - mean_squared_error: 0.0011 - val_loss: 4.1485e-04 - val_mean_squared_error: 4.1485e-04 - lr: 1.0000e-04\n",
      "Epoch 20/100\n",
      "5/5 [==============================] - ETA: 0s - loss: 9.6120e-04 - mean_squared_error: 9.6120e-04\n",
      "Epoch 00020: val_loss improved from 0.00041 to 0.00030, saving model to ./model.h5\n",
      "5/5 [==============================] - 0s 87ms/step - loss: 9.6120e-04 - mean_squared_error: 9.6120e-04 - val_loss: 3.0089e-04 - val_mean_squared_error: 3.0089e-04 - lr: 1.0000e-04\n",
      "Epoch 21/100\n",
      "5/5 [==============================] - ETA: 0s - loss: 8.9535e-04 - mean_squared_error: 8.9535e-04\n",
      "Epoch 00021: val_loss did not improve from 0.00030\n",
      "5/5 [==============================] - 0s 84ms/step - loss: 8.9535e-04 - mean_squared_error: 8.9535e-04 - val_loss: 4.3071e-04 - val_mean_squared_error: 4.3071e-04 - lr: 1.0000e-04\n",
      "Epoch 22/100\n",
      "5/5 [==============================] - ETA: 0s - loss: 9.4728e-04 - mean_squared_error: 9.4728e-04\n",
      "Epoch 00022: val_loss improved from 0.00030 to 0.00026, saving model to ./model.h5\n",
      "5/5 [==============================] - 1s 112ms/step - loss: 9.4728e-04 - mean_squared_error: 9.4728e-04 - val_loss: 2.6246e-04 - val_mean_squared_error: 2.6246e-04 - lr: 1.0000e-04\n",
      "Epoch 23/100\n",
      "5/5 [==============================] - ETA: 0s - loss: 8.1769e-04 - mean_squared_error: 8.1769e-04\n",
      "Epoch 00023: val_loss improved from 0.00026 to 0.00025, saving model to ./model.h5\n",
      "5/5 [==============================] - 0s 90ms/step - loss: 8.1769e-04 - mean_squared_error: 8.1769e-04 - val_loss: 2.5023e-04 - val_mean_squared_error: 2.5023e-04 - lr: 1.0000e-04\n",
      "Epoch 24/100\n",
      "5/5 [==============================] - ETA: 0s - loss: 8.6474e-04 - mean_squared_error: 8.6474e-04\n",
      "Epoch 00024: val_loss did not improve from 0.00025\n",
      "5/5 [==============================] - 0s 80ms/step - loss: 8.6474e-04 - mean_squared_error: 8.6474e-04 - val_loss: 2.7918e-04 - val_mean_squared_error: 2.7918e-04 - lr: 1.0000e-04\n",
      "Epoch 25/100\n",
      "5/5 [==============================] - ETA: 0s - loss: 8.8454e-04 - mean_squared_error: 8.8454e-04\n",
      "Epoch 00025: val_loss did not improve from 0.00025\n",
      "5/5 [==============================] - 0s 80ms/step - loss: 8.8454e-04 - mean_squared_error: 8.8454e-04 - val_loss: 4.3443e-04 - val_mean_squared_error: 4.3443e-04 - lr: 1.0000e-04\n",
      "Epoch 26/100\n",
      "5/5 [==============================] - ETA: 0s - loss: 9.1161e-04 - mean_squared_error: 9.1161e-04\n",
      "Epoch 00026: val_loss did not improve from 0.00025\n",
      "5/5 [==============================] - 0s 81ms/step - loss: 9.1161e-04 - mean_squared_error: 9.1161e-04 - val_loss: 2.9827e-04 - val_mean_squared_error: 2.9827e-04 - lr: 1.0000e-04\n",
      "Epoch 27/100\n",
      "5/5 [==============================] - ETA: 0s - loss: 7.8366e-04 - mean_squared_error: 7.8366e-04\n",
      "Epoch 00027: val_loss improved from 0.00025 to 0.00025, saving model to ./model.h5\n",
      "5/5 [==============================] - 0s 88ms/step - loss: 7.8366e-04 - mean_squared_error: 7.8366e-04 - val_loss: 2.4536e-04 - val_mean_squared_error: 2.4536e-04 - lr: 1.0000e-04\n",
      "Epoch 28/100\n",
      "5/5 [==============================] - ETA: 0s - loss: 8.3578e-04 - mean_squared_error: 8.3578e-04\n",
      "Epoch 00028: val_loss did not improve from 0.00025\n",
      "5/5 [==============================] - 0s 82ms/step - loss: 8.3578e-04 - mean_squared_error: 8.3578e-04 - val_loss: 3.5351e-04 - val_mean_squared_error: 3.5351e-04 - lr: 1.0000e-04\n",
      "Epoch 29/100\n",
      "5/5 [==============================] - ETA: 0s - loss: 9.7071e-04 - mean_squared_error: 9.7071e-04\n",
      "Epoch 00029: val_loss did not improve from 0.00025\n",
      "5/5 [==============================] - 0s 82ms/step - loss: 9.7071e-04 - mean_squared_error: 9.7071e-04 - val_loss: 2.6311e-04 - val_mean_squared_error: 2.6311e-04 - lr: 1.0000e-04\n",
      "Epoch 30/100\n",
      "5/5 [==============================] - ETA: 0s - loss: 7.8087e-04 - mean_squared_error: 7.8087e-04\n",
      "Epoch 00030: val_loss improved from 0.00025 to 0.00024, saving model to ./model.h5\n",
      "\n",
      "Epoch 00030: ReduceLROnPlateau reducing learning rate to 7.999999797903001e-05.\n",
      "5/5 [==============================] - 0s 87ms/step - loss: 7.8087e-04 - mean_squared_error: 7.8087e-04 - val_loss: 2.3942e-04 - val_mean_squared_error: 2.3942e-04 - lr: 1.0000e-04\n",
      "Epoch 31/100\n",
      "5/5 [==============================] - ETA: 0s - loss: 8.5635e-04 - mean_squared_error: 8.5635e-04\n",
      "Epoch 00031: val_loss did not improve from 0.00024\n",
      "5/5 [==============================] - 0s 81ms/step - loss: 8.5635e-04 - mean_squared_error: 8.5635e-04 - val_loss: 2.8346e-04 - val_mean_squared_error: 2.8346e-04 - lr: 8.0000e-05\n",
      "Epoch 32/100\n",
      "5/5 [==============================] - ETA: 0s - loss: 7.8683e-04 - mean_squared_error: 7.8683e-04\n",
      "Epoch 00032: val_loss did not improve from 0.00024\n",
      "5/5 [==============================] - 0s 80ms/step - loss: 7.8683e-04 - mean_squared_error: 7.8683e-04 - val_loss: 2.4491e-04 - val_mean_squared_error: 2.4491e-04 - lr: 8.0000e-05\n",
      "Epoch 33/100\n",
      "5/5 [==============================] - ETA: 0s - loss: 8.4200e-04 - mean_squared_error: 8.4200e-04\n",
      "Epoch 00033: val_loss improved from 0.00024 to 0.00023, saving model to ./model.h5\n",
      "5/5 [==============================] - 0s 98ms/step - loss: 8.4200e-04 - mean_squared_error: 8.4200e-04 - val_loss: 2.3311e-04 - val_mean_squared_error: 2.3311e-04 - lr: 8.0000e-05\n",
      "Epoch 34/100\n",
      "5/5 [==============================] - ETA: 0s - loss: 7.7555e-04 - mean_squared_error: 7.7555e-04\n",
      "Epoch 00034: val_loss improved from 0.00023 to 0.00023, saving model to ./model.h5\n",
      "5/5 [==============================] - 0s 87ms/step - loss: 7.7555e-04 - mean_squared_error: 7.7555e-04 - val_loss: 2.3223e-04 - val_mean_squared_error: 2.3223e-04 - lr: 8.0000e-05\n",
      "Epoch 35/100\n",
      "5/5 [==============================] - ETA: 0s - loss: 7.2514e-04 - mean_squared_error: 7.2514e-04\n",
      "Epoch 00035: val_loss did not improve from 0.00023\n",
      "5/5 [==============================] - 0s 87ms/step - loss: 7.2514e-04 - mean_squared_error: 7.2514e-04 - val_loss: 2.3797e-04 - val_mean_squared_error: 2.3797e-04 - lr: 8.0000e-05\n",
      "Epoch 36/100\n",
      "5/5 [==============================] - ETA: 0s - loss: 7.7783e-04 - mean_squared_error: 7.7783e-04\n",
      "Epoch 00036: val_loss did not improve from 0.00023\n",
      "5/5 [==============================] - 0s 83ms/step - loss: 7.7783e-04 - mean_squared_error: 7.7783e-04 - val_loss: 3.1855e-04 - val_mean_squared_error: 3.1855e-04 - lr: 8.0000e-05\n",
      "Epoch 37/100\n",
      "5/5 [==============================] - ETA: 0s - loss: 8.9349e-04 - mean_squared_error: 8.9349e-04\n",
      "Epoch 00037: val_loss did not improve from 0.00023\n",
      "5/5 [==============================] - 0s 82ms/step - loss: 8.9349e-04 - mean_squared_error: 8.9349e-04 - val_loss: 2.5106e-04 - val_mean_squared_error: 2.5106e-04 - lr: 8.0000e-05\n",
      "Epoch 38/100\n",
      "5/5 [==============================] - ETA: 0s - loss: 7.2972e-04 - mean_squared_error: 7.2972e-04\n",
      "Epoch 00038: val_loss did not improve from 0.00023\n",
      "5/5 [==============================] - 0s 81ms/step - loss: 7.2972e-04 - mean_squared_error: 7.2972e-04 - val_loss: 2.6570e-04 - val_mean_squared_error: 2.6570e-04 - lr: 8.0000e-05\n",
      "Epoch 39/100\n",
      "5/5 [==============================] - ETA: 0s - loss: 7.6959e-04 - mean_squared_error: 7.6959e-04\n",
      "Epoch 00039: val_loss did not improve from 0.00023\n",
      "5/5 [==============================] - 0s 85ms/step - loss: 7.6959e-04 - mean_squared_error: 7.6959e-04 - val_loss: 2.3958e-04 - val_mean_squared_error: 2.3958e-04 - lr: 8.0000e-05\n",
      "Epoch 40/100\n",
      "5/5 [==============================] - ETA: 0s - loss: 7.6674e-04 - mean_squared_error: 7.6674e-04\n",
      "Epoch 00040: val_loss did not improve from 0.00023\n",
      "\n",
      "Epoch 00040: ReduceLROnPlateau reducing learning rate to 6.399999838322402e-05.\n",
      "5/5 [==============================] - 0s 81ms/step - loss: 7.6674e-04 - mean_squared_error: 7.6674e-04 - val_loss: 3.3428e-04 - val_mean_squared_error: 3.3428e-04 - lr: 8.0000e-05\n",
      "Epoch 41/100\n",
      "5/5 [==============================] - ETA: 0s - loss: 8.1192e-04 - mean_squared_error: 8.1192e-04\n",
      "Epoch 00041: val_loss did not improve from 0.00023\n",
      "5/5 [==============================] - 0s 82ms/step - loss: 8.1192e-04 - mean_squared_error: 8.1192e-04 - val_loss: 2.6588e-04 - val_mean_squared_error: 2.6588e-04 - lr: 6.4000e-05\n",
      "Epoch 42/100\n",
      "5/5 [==============================] - ETA: 0s - loss: 6.8924e-04 - mean_squared_error: 6.8924e-04\n",
      "Epoch 00042: val_loss did not improve from 0.00023\n",
      "5/5 [==============================] - 0s 80ms/step - loss: 6.8924e-04 - mean_squared_error: 6.8924e-04 - val_loss: 2.6044e-04 - val_mean_squared_error: 2.6044e-04 - lr: 6.4000e-05\n",
      "Epoch 43/100\n",
      "5/5 [==============================] - ETA: 0s - loss: 7.8895e-04 - mean_squared_error: 7.8895e-04\n",
      "Epoch 00043: val_loss did not improve from 0.00023\n",
      "5/5 [==============================] - 0s 82ms/step - loss: 7.8895e-04 - mean_squared_error: 7.8895e-04 - val_loss: 2.9202e-04 - val_mean_squared_error: 2.9202e-04 - lr: 6.4000e-05\n",
      "Epoch 44/100\n",
      "5/5 [==============================] - ETA: 0s - loss: 6.7884e-04 - mean_squared_error: 6.7884e-04\n",
      "Epoch 00044: val_loss improved from 0.00023 to 0.00023, saving model to ./model.h5\n",
      "5/5 [==============================] - 0s 88ms/step - loss: 6.7884e-04 - mean_squared_error: 6.7884e-04 - val_loss: 2.2814e-04 - val_mean_squared_error: 2.2814e-04 - lr: 6.4000e-05\n",
      "Epoch 45/100\n",
      "5/5 [==============================] - ETA: 0s - loss: 6.5949e-04 - mean_squared_error: 6.5949e-04\n",
      "Epoch 00045: val_loss did not improve from 0.00023\n",
      "5/5 [==============================] - 0s 82ms/step - loss: 6.5949e-04 - mean_squared_error: 6.5949e-04 - val_loss: 2.7565e-04 - val_mean_squared_error: 2.7565e-04 - lr: 6.4000e-05\n",
      "Epoch 46/100\n",
      "5/5 [==============================] - ETA: 0s - loss: 7.9707e-04 - mean_squared_error: 7.9707e-04\n",
      "Epoch 00046: val_loss did not improve from 0.00023\n",
      "5/5 [==============================] - 0s 82ms/step - loss: 7.9707e-04 - mean_squared_error: 7.9707e-04 - val_loss: 2.3499e-04 - val_mean_squared_error: 2.3499e-04 - lr: 6.4000e-05\n",
      "Epoch 47/100\n",
      "5/5 [==============================] - ETA: 0s - loss: 7.0751e-04 - mean_squared_error: 7.0751e-04\n",
      "Epoch 00047: val_loss did not improve from 0.00023\n",
      "5/5 [==============================] - 0s 84ms/step - loss: 7.0751e-04 - mean_squared_error: 7.0751e-04 - val_loss: 2.3598e-04 - val_mean_squared_error: 2.3598e-04 - lr: 6.4000e-05\n",
      "Epoch 48/100\n",
      "5/5 [==============================] - ETA: 0s - loss: 7.1608e-04 - mean_squared_error: 7.1608e-04\n",
      "Epoch 00048: val_loss did not improve from 0.00023\n",
      "5/5 [==============================] - 0s 86ms/step - loss: 7.1608e-04 - mean_squared_error: 7.1608e-04 - val_loss: 2.4939e-04 - val_mean_squared_error: 2.4939e-04 - lr: 6.4000e-05\n",
      "Epoch 49/100\n",
      "5/5 [==============================] - ETA: 0s - loss: 6.6274e-04 - mean_squared_error: 6.6274e-04\n",
      "Epoch 00049: val_loss did not improve from 0.00023\n",
      "5/5 [==============================] - 0s 81ms/step - loss: 6.6274e-04 - mean_squared_error: 6.6274e-04 - val_loss: 2.5689e-04 - val_mean_squared_error: 2.5689e-04 - lr: 6.4000e-05\n",
      "Epoch 50/100\n",
      "5/5 [==============================] - ETA: 0s - loss: 7.9475e-04 - mean_squared_error: 7.9475e-04\n",
      "Epoch 00050: val_loss did not improve from 0.00023\n",
      "\n",
      "Epoch 00050: ReduceLROnPlateau reducing learning rate to 5.119999987073243e-05.\n",
      "5/5 [==============================] - 0s 82ms/step - loss: 7.9475e-04 - mean_squared_error: 7.9475e-04 - val_loss: 3.0027e-04 - val_mean_squared_error: 3.0027e-04 - lr: 6.4000e-05\n",
      "Epoch 51/100\n",
      "5/5 [==============================] - ETA: 0s - loss: 6.5692e-04 - mean_squared_error: 6.5692e-04\n",
      "Epoch 00051: val_loss improved from 0.00023 to 0.00023, saving model to ./model.h5\n",
      "5/5 [==============================] - 0s 87ms/step - loss: 6.5692e-04 - mean_squared_error: 6.5692e-04 - val_loss: 2.2760e-04 - val_mean_squared_error: 2.2760e-04 - lr: 5.1200e-05\n",
      "Epoch 52/100\n",
      "5/5 [==============================] - ETA: 0s - loss: 6.7744e-04 - mean_squared_error: 6.7744e-04\n",
      "Epoch 00052: val_loss did not improve from 0.00023\n",
      "5/5 [==============================] - 0s 83ms/step - loss: 6.7744e-04 - mean_squared_error: 6.7744e-04 - val_loss: 2.7017e-04 - val_mean_squared_error: 2.7017e-04 - lr: 5.1200e-05\n",
      "Epoch 53/100\n",
      "5/5 [==============================] - ETA: 0s - loss: 6.7798e-04 - mean_squared_error: 6.7798e-04\n",
      "Epoch 00053: val_loss did not improve from 0.00023\n",
      "5/5 [==============================] - 0s 80ms/step - loss: 6.7798e-04 - mean_squared_error: 6.7798e-04 - val_loss: 2.3586e-04 - val_mean_squared_error: 2.3586e-04 - lr: 5.1200e-05\n",
      "Epoch 54/100\n",
      "5/5 [==============================] - ETA: 0s - loss: 6.5303e-04 - mean_squared_error: 6.5303e-04\n",
      "Epoch 00054: val_loss did not improve from 0.00023\n",
      "5/5 [==============================] - 0s 83ms/step - loss: 6.5303e-04 - mean_squared_error: 6.5303e-04 - val_loss: 2.3279e-04 - val_mean_squared_error: 2.3279e-04 - lr: 5.1200e-05\n",
      "Epoch 55/100\n",
      "5/5 [==============================] - ETA: 0s - loss: 6.6508e-04 - mean_squared_error: 6.6508e-04\n",
      "Epoch 00055: val_loss did not improve from 0.00023\n",
      "5/5 [==============================] - 0s 82ms/step - loss: 6.6508e-04 - mean_squared_error: 6.6508e-04 - val_loss: 2.3296e-04 - val_mean_squared_error: 2.3296e-04 - lr: 5.1200e-05\n",
      "Epoch 56/100\n",
      "5/5 [==============================] - ETA: 0s - loss: 6.7696e-04 - mean_squared_error: 6.7696e-04\n",
      "Epoch 00056: val_loss did not improve from 0.00023\n",
      "5/5 [==============================] - 0s 87ms/step - loss: 6.7696e-04 - mean_squared_error: 6.7696e-04 - val_loss: 2.3399e-04 - val_mean_squared_error: 2.3399e-04 - lr: 5.1200e-05\n",
      "Epoch 57/100\n",
      "5/5 [==============================] - ETA: 0s - loss: 6.4190e-04 - mean_squared_error: 6.4190e-04\n",
      "Epoch 00057: val_loss did not improve from 0.00023\n",
      "5/5 [==============================] - 0s 83ms/step - loss: 6.4190e-04 - mean_squared_error: 6.4190e-04 - val_loss: 2.3926e-04 - val_mean_squared_error: 2.3926e-04 - lr: 5.1200e-05\n",
      "Epoch 58/100\n",
      "5/5 [==============================] - ETA: 0s - loss: 6.2954e-04 - mean_squared_error: 6.2954e-04\n",
      "Epoch 00058: val_loss did not improve from 0.00023\n",
      "5/5 [==============================] - 0s 85ms/step - loss: 6.2954e-04 - mean_squared_error: 6.2954e-04 - val_loss: 3.1449e-04 - val_mean_squared_error: 3.1449e-04 - lr: 5.1200e-05\n",
      "Epoch 59/100\n",
      "5/5 [==============================] - ETA: 0s - loss: 6.7393e-04 - mean_squared_error: 6.7393e-04\n",
      "Epoch 00059: val_loss improved from 0.00023 to 0.00022, saving model to ./model.h5\n",
      "5/5 [==============================] - 0s 86ms/step - loss: 6.7393e-04 - mean_squared_error: 6.7393e-04 - val_loss: 2.2349e-04 - val_mean_squared_error: 2.2349e-04 - lr: 5.1200e-05\n",
      "Epoch 60/100\n",
      "5/5 [==============================] - ETA: 0s - loss: 6.6292e-04 - mean_squared_error: 6.6292e-04\n",
      "Epoch 00060: val_loss did not improve from 0.00022\n",
      "\n",
      "Epoch 00060: ReduceLROnPlateau reducing learning rate to 4.0960000478662555e-05.\n",
      "5/5 [==============================] - 0s 84ms/step - loss: 6.6292e-04 - mean_squared_error: 6.6292e-04 - val_loss: 2.2516e-04 - val_mean_squared_error: 2.2516e-04 - lr: 5.1200e-05\n",
      "Epoch 61/100\n",
      "5/5 [==============================] - ETA: 0s - loss: 6.4421e-04 - mean_squared_error: 6.4421e-04\n",
      "Epoch 00061: val_loss did not improve from 0.00022\n",
      "5/5 [==============================] - 0s 81ms/step - loss: 6.4421e-04 - mean_squared_error: 6.4421e-04 - val_loss: 2.4808e-04 - val_mean_squared_error: 2.4808e-04 - lr: 4.0960e-05\n",
      "Epoch 62/100\n",
      "5/5 [==============================] - ETA: 0s - loss: 6.5683e-04 - mean_squared_error: 6.5683e-04\n",
      "Epoch 00062: val_loss did not improve from 0.00022\n",
      "5/5 [==============================] - 0s 82ms/step - loss: 6.5683e-04 - mean_squared_error: 6.5683e-04 - val_loss: 2.2398e-04 - val_mean_squared_error: 2.2398e-04 - lr: 4.0960e-05\n",
      "Epoch 63/100\n",
      "5/5 [==============================] - ETA: 0s - loss: 6.2388e-04 - mean_squared_error: 6.2388e-04\n",
      "Epoch 00063: val_loss did not improve from 0.00022\n",
      "5/5 [==============================] - 0s 83ms/step - loss: 6.2388e-04 - mean_squared_error: 6.2388e-04 - val_loss: 2.3138e-04 - val_mean_squared_error: 2.3138e-04 - lr: 4.0960e-05\n",
      "Epoch 64/100\n",
      "5/5 [==============================] - ETA: 0s - loss: 6.8118e-04 - mean_squared_error: 6.8118e-04\n",
      "Epoch 00064: val_loss did not improve from 0.00022\n",
      "5/5 [==============================] - 0s 83ms/step - loss: 6.8118e-04 - mean_squared_error: 6.8118e-04 - val_loss: 2.2565e-04 - val_mean_squared_error: 2.2565e-04 - lr: 4.0960e-05\n",
      "Epoch 65/100\n",
      "5/5 [==============================] - ETA: 0s - loss: 7.4266e-04 - mean_squared_error: 7.4266e-04\n",
      "Epoch 00065: val_loss did not improve from 0.00022\n",
      "5/5 [==============================] - 0s 81ms/step - loss: 7.4266e-04 - mean_squared_error: 7.4266e-04 - val_loss: 2.4852e-04 - val_mean_squared_error: 2.4852e-04 - lr: 4.0960e-05\n",
      "Epoch 66/100\n",
      "5/5 [==============================] - ETA: 0s - loss: 6.1726e-04 - mean_squared_error: 6.1726e-04\n",
      "Epoch 00066: val_loss improved from 0.00022 to 0.00022, saving model to ./model.h5\n",
      "5/5 [==============================] - 0s 88ms/step - loss: 6.1726e-04 - mean_squared_error: 6.1726e-04 - val_loss: 2.2342e-04 - val_mean_squared_error: 2.2342e-04 - lr: 4.0960e-05\n",
      "Epoch 67/100\n",
      "5/5 [==============================] - ETA: 0s - loss: 6.4693e-04 - mean_squared_error: 6.4693e-04\n",
      "Epoch 00067: val_loss did not improve from 0.00022\n",
      "5/5 [==============================] - 0s 84ms/step - loss: 6.4693e-04 - mean_squared_error: 6.4693e-04 - val_loss: 2.3469e-04 - val_mean_squared_error: 2.3469e-04 - lr: 4.0960e-05\n",
      "Epoch 68/100\n",
      "5/5 [==============================] - ETA: 0s - loss: 6.3542e-04 - mean_squared_error: 6.3542e-04\n",
      "Epoch 00068: val_loss did not improve from 0.00022\n",
      "5/5 [==============================] - 0s 84ms/step - loss: 6.3542e-04 - mean_squared_error: 6.3542e-04 - val_loss: 2.2517e-04 - val_mean_squared_error: 2.2517e-04 - lr: 4.0960e-05\n",
      "Epoch 69/100\n",
      "5/5 [==============================] - ETA: 0s - loss: 6.7186e-04 - mean_squared_error: 6.7186e-04\n",
      "Epoch 00069: val_loss did not improve from 0.00022\n",
      "5/5 [==============================] - 0s 83ms/step - loss: 6.7186e-04 - mean_squared_error: 6.7186e-04 - val_loss: 2.3886e-04 - val_mean_squared_error: 2.3886e-04 - lr: 4.0960e-05\n",
      "Epoch 70/100\n",
      "5/5 [==============================] - ETA: 0s - loss: 6.9572e-04 - mean_squared_error: 6.9572e-04\n",
      "Epoch 00070: val_loss improved from 0.00022 to 0.00022, saving model to ./model.h5\n",
      "\n",
      "Epoch 00070: ReduceLROnPlateau reducing learning rate to 3.2767999800853435e-05.\n",
      "5/5 [==============================] - 0s 86ms/step - loss: 6.9572e-04 - mean_squared_error: 6.9572e-04 - val_loss: 2.2196e-04 - val_mean_squared_error: 2.2196e-04 - lr: 4.0960e-05\n",
      "Epoch 71/100\n",
      "5/5 [==============================] - ETA: 0s - loss: 6.9170e-04 - mean_squared_error: 6.9170e-04\n",
      "Epoch 00071: val_loss did not improve from 0.00022\n",
      "5/5 [==============================] - 0s 82ms/step - loss: 6.9170e-04 - mean_squared_error: 6.9170e-04 - val_loss: 2.3586e-04 - val_mean_squared_error: 2.3586e-04 - lr: 3.2768e-05\n",
      "Epoch 72/100\n",
      "5/5 [==============================] - ETA: 0s - loss: 6.1778e-04 - mean_squared_error: 6.1778e-04\n",
      "Epoch 00072: val_loss did not improve from 0.00022\n",
      "5/5 [==============================] - 0s 81ms/step - loss: 6.1778e-04 - mean_squared_error: 6.1778e-04 - val_loss: 2.2600e-04 - val_mean_squared_error: 2.2600e-04 - lr: 3.2768e-05\n",
      "Epoch 73/100\n",
      "5/5 [==============================] - ETA: 0s - loss: 6.1679e-04 - mean_squared_error: 6.1679e-04\n",
      "Epoch 00073: val_loss did not improve from 0.00022\n",
      "5/5 [==============================] - 0s 83ms/step - loss: 6.1679e-04 - mean_squared_error: 6.1679e-04 - val_loss: 2.2633e-04 - val_mean_squared_error: 2.2633e-04 - lr: 3.2768e-05\n",
      "Epoch 74/100\n",
      "5/5 [==============================] - ETA: 0s - loss: 6.3742e-04 - mean_squared_error: 6.3742e-04\n",
      "Epoch 00074: val_loss did not improve from 0.00022\n",
      "5/5 [==============================] - 0s 82ms/step - loss: 6.3742e-04 - mean_squared_error: 6.3742e-04 - val_loss: 2.3847e-04 - val_mean_squared_error: 2.3847e-04 - lr: 3.2768e-05\n",
      "Epoch 75/100\n",
      "5/5 [==============================] - ETA: 0s - loss: 6.7560e-04 - mean_squared_error: 6.7560e-04\n",
      "Epoch 00075: val_loss did not improve from 0.00022\n",
      "5/5 [==============================] - 0s 84ms/step - loss: 6.7560e-04 - mean_squared_error: 6.7560e-04 - val_loss: 2.4663e-04 - val_mean_squared_error: 2.4663e-04 - lr: 3.2768e-05\n",
      "Epoch 76/100\n",
      "5/5 [==============================] - ETA: 0s - loss: 5.8876e-04 - mean_squared_error: 5.8876e-04\n",
      "Epoch 00076: val_loss improved from 0.00022 to 0.00022, saving model to ./model.h5\n",
      "5/5 [==============================] - 0s 89ms/step - loss: 5.8876e-04 - mean_squared_error: 5.8876e-04 - val_loss: 2.2123e-04 - val_mean_squared_error: 2.2123e-04 - lr: 3.2768e-05\n",
      "Epoch 77/100\n",
      "5/5 [==============================] - ETA: 0s - loss: 5.9661e-04 - mean_squared_error: 5.9661e-04\n",
      "Epoch 00077: val_loss did not improve from 0.00022\n",
      "5/5 [==============================] - 0s 88ms/step - loss: 5.9661e-04 - mean_squared_error: 5.9661e-04 - val_loss: 2.2730e-04 - val_mean_squared_error: 2.2730e-04 - lr: 3.2768e-05\n",
      "Epoch 78/100\n",
      "5/5 [==============================] - ETA: 0s - loss: 6.5388e-04 - mean_squared_error: 6.5388e-04\n",
      "Epoch 00078: val_loss did not improve from 0.00022\n",
      "5/5 [==============================] - 0s 81ms/step - loss: 6.5388e-04 - mean_squared_error: 6.5388e-04 - val_loss: 2.2324e-04 - val_mean_squared_error: 2.2324e-04 - lr: 3.2768e-05\n",
      "Epoch 79/100\n",
      "5/5 [==============================] - ETA: 0s - loss: 6.1508e-04 - mean_squared_error: 6.1508e-04\n",
      "Epoch 00079: val_loss did not improve from 0.00022\n",
      "5/5 [==============================] - 0s 83ms/step - loss: 6.1508e-04 - mean_squared_error: 6.1508e-04 - val_loss: 2.2230e-04 - val_mean_squared_error: 2.2230e-04 - lr: 3.2768e-05\n",
      "Epoch 80/100\n",
      "5/5 [==============================] - ETA: 0s - loss: 6.0628e-04 - mean_squared_error: 6.0628e-04\n",
      "Epoch 00080: val_loss did not improve from 0.00022\n",
      "\n",
      "Epoch 00080: ReduceLROnPlateau reducing learning rate to 2.6214399258606137e-05.\n",
      "5/5 [==============================] - 0s 82ms/step - loss: 6.0628e-04 - mean_squared_error: 6.0628e-04 - val_loss: 2.6203e-04 - val_mean_squared_error: 2.6203e-04 - lr: 3.2768e-05\n",
      "Epoch 81/100\n",
      "5/5 [==============================] - ETA: 0s - loss: 6.6354e-04 - mean_squared_error: 6.6354e-04\n",
      "Epoch 00081: val_loss did not improve from 0.00022\n",
      "5/5 [==============================] - 0s 83ms/step - loss: 6.6354e-04 - mean_squared_error: 6.6354e-04 - val_loss: 2.2125e-04 - val_mean_squared_error: 2.2125e-04 - lr: 2.6214e-05\n",
      "Epoch 82/100\n",
      "5/5 [==============================] - ETA: 0s - loss: 6.4937e-04 - mean_squared_error: 6.4937e-04\n",
      "Epoch 00082: val_loss did not improve from 0.00022\n",
      "5/5 [==============================] - 0s 84ms/step - loss: 6.4937e-04 - mean_squared_error: 6.4937e-04 - val_loss: 2.3102e-04 - val_mean_squared_error: 2.3102e-04 - lr: 2.6214e-05\n",
      "Epoch 83/100\n",
      "5/5 [==============================] - ETA: 0s - loss: 6.3471e-04 - mean_squared_error: 6.3471e-04\n",
      "Epoch 00083: val_loss did not improve from 0.00022\n",
      "5/5 [==============================] - 0s 83ms/step - loss: 6.3471e-04 - mean_squared_error: 6.3471e-04 - val_loss: 2.2258e-04 - val_mean_squared_error: 2.2258e-04 - lr: 2.6214e-05\n",
      "Epoch 84/100\n",
      "5/5 [==============================] - ETA: 0s - loss: 6.4413e-04 - mean_squared_error: 6.4413e-04\n",
      "Epoch 00084: val_loss did not improve from 0.00022\n",
      "5/5 [==============================] - 0s 81ms/step - loss: 6.4413e-04 - mean_squared_error: 6.4413e-04 - val_loss: 2.2558e-04 - val_mean_squared_error: 2.2558e-04 - lr: 2.6214e-05\n",
      "Epoch 85/100\n",
      "5/5 [==============================] - ETA: 0s - loss: 6.5583e-04 - mean_squared_error: 6.5583e-04\n",
      "Epoch 00085: val_loss did not improve from 0.00022\n",
      "5/5 [==============================] - 0s 85ms/step - loss: 6.5583e-04 - mean_squared_error: 6.5583e-04 - val_loss: 2.2467e-04 - val_mean_squared_error: 2.2467e-04 - lr: 2.6214e-05\n",
      "Epoch 86/100\n",
      "5/5 [==============================] - ETA: 0s - loss: 6.3192e-04 - mean_squared_error: 6.3192e-04\n",
      "Epoch 00086: val_loss improved from 0.00022 to 0.00022, saving model to ./model.h5\n",
      "5/5 [==============================] - 0s 88ms/step - loss: 6.3192e-04 - mean_squared_error: 6.3192e-04 - val_loss: 2.2050e-04 - val_mean_squared_error: 2.2050e-04 - lr: 2.6214e-05\n",
      "Epoch 87/100\n",
      "5/5 [==============================] - ETA: 0s - loss: 6.2695e-04 - mean_squared_error: 6.2695e-04\n",
      "Epoch 00087: val_loss improved from 0.00022 to 0.00022, saving model to ./model.h5\n",
      "5/5 [==============================] - 0s 89ms/step - loss: 6.2695e-04 - mean_squared_error: 6.2695e-04 - val_loss: 2.2041e-04 - val_mean_squared_error: 2.2041e-04 - lr: 2.6214e-05\n",
      "Epoch 88/100\n",
      "5/5 [==============================] - ETA: 0s - loss: 6.6490e-04 - mean_squared_error: 6.6490e-04\n",
      "Epoch 00088: val_loss did not improve from 0.00022\n",
      "5/5 [==============================] - 0s 82ms/step - loss: 6.6490e-04 - mean_squared_error: 6.6490e-04 - val_loss: 2.2096e-04 - val_mean_squared_error: 2.2096e-04 - lr: 2.6214e-05\n",
      "Epoch 89/100\n",
      "5/5 [==============================] - ETA: 0s - loss: 6.1096e-04 - mean_squared_error: 6.1096e-04\n",
      "Epoch 00089: val_loss did not improve from 0.00022\n",
      "5/5 [==============================] - 0s 84ms/step - loss: 6.1096e-04 - mean_squared_error: 6.1096e-04 - val_loss: 2.2192e-04 - val_mean_squared_error: 2.2192e-04 - lr: 2.6214e-05\n",
      "Epoch 90/100\n",
      "5/5 [==============================] - ETA: 0s - loss: 6.0197e-04 - mean_squared_error: 6.0197e-04\n",
      "Epoch 00090: val_loss improved from 0.00022 to 0.00022, saving model to ./model.h5\n",
      "\n",
      "Epoch 00090: ReduceLROnPlateau reducing learning rate to 2.09715188248083e-05.\n",
      "5/5 [==============================] - 0s 89ms/step - loss: 6.0197e-04 - mean_squared_error: 6.0197e-04 - val_loss: 2.1965e-04 - val_mean_squared_error: 2.1965e-04 - lr: 2.6214e-05\n",
      "Epoch 91/100\n",
      "5/5 [==============================] - ETA: 0s - loss: 6.5610e-04 - mean_squared_error: 6.5610e-04\n",
      "Epoch 00091: val_loss did not improve from 0.00022\n",
      "5/5 [==============================] - 0s 83ms/step - loss: 6.5610e-04 - mean_squared_error: 6.5610e-04 - val_loss: 2.2108e-04 - val_mean_squared_error: 2.2108e-04 - lr: 2.0972e-05\n",
      "Epoch 92/100\n",
      "5/5 [==============================] - ETA: 0s - loss: 5.8620e-04 - mean_squared_error: 5.8620e-04\n",
      "Epoch 00092: val_loss did not improve from 0.00022\n",
      "5/5 [==============================] - 0s 82ms/step - loss: 5.8620e-04 - mean_squared_error: 5.8620e-04 - val_loss: 2.2052e-04 - val_mean_squared_error: 2.2052e-04 - lr: 2.0972e-05\n",
      "Epoch 93/100\n",
      "5/5 [==============================] - ETA: 0s - loss: 6.5395e-04 - mean_squared_error: 6.5395e-04\n",
      "Epoch 00093: val_loss did not improve from 0.00022\n",
      "5/5 [==============================] - 0s 84ms/step - loss: 6.5395e-04 - mean_squared_error: 6.5395e-04 - val_loss: 2.1972e-04 - val_mean_squared_error: 2.1972e-04 - lr: 2.0972e-05\n",
      "Epoch 94/100\n",
      "5/5 [==============================] - ETA: 0s - loss: 5.9061e-04 - mean_squared_error: 5.9061e-04\n",
      "Epoch 00094: val_loss did not improve from 0.00022\n",
      "5/5 [==============================] - 0s 81ms/step - loss: 5.9061e-04 - mean_squared_error: 5.9061e-04 - val_loss: 2.2595e-04 - val_mean_squared_error: 2.2595e-04 - lr: 2.0972e-05\n",
      "Epoch 95/100\n",
      "5/5 [==============================] - ETA: 0s - loss: 6.1685e-04 - mean_squared_error: 6.1685e-04\n",
      "Epoch 00095: val_loss did not improve from 0.00022\n",
      "5/5 [==============================] - 0s 85ms/step - loss: 6.1685e-04 - mean_squared_error: 6.1685e-04 - val_loss: 2.2045e-04 - val_mean_squared_error: 2.2045e-04 - lr: 2.0972e-05\n",
      "Epoch 96/100\n",
      "5/5 [==============================] - ETA: 0s - loss: 6.2225e-04 - mean_squared_error: 6.2225e-04\n",
      "Epoch 00096: val_loss improved from 0.00022 to 0.00022, saving model to ./model.h5\n",
      "5/5 [==============================] - 0s 99ms/step - loss: 6.2225e-04 - mean_squared_error: 6.2225e-04 - val_loss: 2.1906e-04 - val_mean_squared_error: 2.1906e-04 - lr: 2.0972e-05\n",
      "Epoch 97/100\n",
      "5/5 [==============================] - ETA: 0s - loss: 6.1649e-04 - mean_squared_error: 6.1649e-04\n",
      "Epoch 00097: val_loss improved from 0.00022 to 0.00022, saving model to ./model.h5\n",
      "5/5 [==============================] - 0s 92ms/step - loss: 6.1649e-04 - mean_squared_error: 6.1649e-04 - val_loss: 2.1888e-04 - val_mean_squared_error: 2.1888e-04 - lr: 2.0972e-05\n",
      "Epoch 98/100\n",
      "5/5 [==============================] - ETA: 0s - loss: 6.4874e-04 - mean_squared_error: 6.4874e-04\n",
      "Epoch 00098: val_loss did not improve from 0.00022\n",
      "5/5 [==============================] - 0s 87ms/step - loss: 6.4874e-04 - mean_squared_error: 6.4874e-04 - val_loss: 2.1910e-04 - val_mean_squared_error: 2.1910e-04 - lr: 2.0972e-05\n",
      "Epoch 99/100\n",
      "5/5 [==============================] - ETA: 0s - loss: 6.6005e-04 - mean_squared_error: 6.6005e-04\n",
      "Epoch 00099: val_loss did not improve from 0.00022\n",
      "5/5 [==============================] - 0s 84ms/step - loss: 6.6005e-04 - mean_squared_error: 6.6005e-04 - val_loss: 2.2262e-04 - val_mean_squared_error: 2.2262e-04 - lr: 2.0972e-05\n",
      "Epoch 100/100\n",
      "5/5 [==============================] - ETA: 0s - loss: 5.9049e-04 - mean_squared_error: 5.9049e-04\n",
      "Epoch 00100: val_loss did not improve from 0.00022\n",
      "\n",
      "Epoch 00100: ReduceLROnPlateau reducing learning rate to 1.6777214477770033e-05.\n",
      "5/5 [==============================] - 0s 82ms/step - loss: 5.9049e-04 - mean_squared_error: 5.9049e-04 - val_loss: 2.1926e-04 - val_mean_squared_error: 2.1926e-04 - lr: 2.0972e-05\n"
     ]
    }
   ],
   "source": [
    "history = model.fit(X_train, \n",
    "                    y_train, \n",
    "                    epochs=100, \n",
    "                    batch_size=256, \n",
    "                    callbacks=[checkpoint, lr_reduce], \n",
    "                    validation_data=(X_test, y_test))"
   ]
  },
  {
   "cell_type": "code",
   "execution_count": 0,
   "metadata": {
    "colab": {},
    "colab_type": "code",
    "id": "X6SiCNKYhUdv"
   },
   "outputs": [],
   "source": [
    "# Load best model\n",
    "model = load_model(filepath)"
   ]
  },
  {
   "cell_type": "code",
   "execution_count": 82,
   "metadata": {
    "colab": {
     "base_uri": "https://localhost:8080/",
     "height": 295
    },
    "colab_type": "code",
    "id": "Uuv0f4X2hUdx",
    "outputId": "d19b0456-3c1b-46eb-9545-1c5b1e65dccc",
    "scrolled": false
   },
   "outputs": [
    {
     "data": {
      "image/png": "[encoded data removed]",
      "text/plain": [
       "<Figure size 432x288 with 1 Axes>"
      ]
     },
     "metadata": {
      "needs_background": "light",
      "tags": []
     },
     "output_type": "display_data"
    }
   ],
   "source": [
    "# Plot loss vs epoch\n",
    "plt.plot(history.history['loss'], color='b', label='train')\n",
    "plt.plot(history.history['val_loss'], color='r', label='test')\n",
    "plt.title('Loss vs. Epoch')\n",
    "plt.ylabel('loss')\n",
    "plt.xlabel('epoch')\n",
    "plt.legend(loc='upper right')\n",
    "plt.show()"
   ]
  },
  {
   "cell_type": "code",
   "execution_count": 83,
   "metadata": {
    "colab": {
     "base_uri": "https://localhost:8080/",
     "height": 51
    },
    "colab_type": "code",
    "id": "V85t52LThUdz",
    "outputId": "cc8f8d4a-86d8-4cb0-f5b6-555ec83c385d"
   },
   "outputs": [
    {
     "name": "stdout",
     "output_type": "stream",
     "text": [
      "Train Score: 0.00022 MSE (0.01 RMSE)\n",
      "Test Score: 0.00022 MSE (0.01 RMSE)\n"
     ]
    }
   ],
   "source": [
    "def model_score(model, X_train, y_train, X_test, y_test):\n",
    "    train_score = model.evaluate(X_train, y_train, verbose=0)\n",
    "    print('Train Score: %.5f MSE (%.2f RMSE)' % (train_score[0], math.sqrt(train_score[0])))\n",
    "    test_score = model.evaluate(X_test, y_test, verbose=0)\n",
    "    print('Test Score: %.5f MSE (%.2f RMSE)' % (test_score[0], math.sqrt(test_score[0])))\n",
    "\n",
    "model_score(model, X_train, y_train , X_test, y_test)"
   ]
  },
  {
   "cell_type": "code",
   "execution_count": 0,
   "metadata": {
    "colab": {},
    "colab_type": "code",
    "id": "TsVPE3fmhUd2"
   },
   "outputs": [],
   "source": [
    "pred = model.predict(X_test)\n",
    "pred = scaler.inverse_transform(pred) + series_mean"
   ]
  },
  {
   "cell_type": "code",
   "execution_count": 0,
   "metadata": {
    "colab": {},
    "colab_type": "code",
    "id": "CWDIcW7jhUd5"
   },
   "outputs": [],
   "source": [
    "y_test = y_test[..., np.newaxis]\n",
    "y_test = scaler.inverse_transform(y_test) + series_mean"
   ]
  },
  {
   "cell_type": "code",
   "execution_count": 86,
   "metadata": {
    "colab": {
     "base_uri": "https://localhost:8080/",
     "height": 458
    },
    "colab_type": "code",
    "id": "1dFnFQCChUd7",
    "outputId": "e57880e1-2ba3-4293-ff45-8885ba7f9f60"
   },
   "outputs": [
    {
     "data": {
      "image/png": "[encoded data removed]",
      "text/plain": [
       "<Figure size 1080x504 with 1 Axes>"
      ]
     },
     "metadata": {
      "needs_background": "light",
      "tags": []
     },
     "output_type": "display_data"
    }
   ],
   "source": [
    "plt.rcParams[\"figure.figsize\"] = (15,7)\n",
    "plt.plot(y_test, label='actual', color='b')\n",
    "plt.plot(pred, label='predicted', color='r')\n",
    "plt.xlabel('Time [days]')\n",
    "plt.ylabel('Stock Prices [$]')\n",
    "plt.title('New York Stock Exchange Prices: GOOG')\n",
    "plt.legend(loc='upper left')\n",
    "plt.grid(True)\n",
    "plt.show()"
   ]
  }
 ],
 "metadata": {
  "colab": {
   "collapsed_sections": [],
   "name": "Python Homework week 12.ipynb",
   "provenance": [],
   "toc_visible": true
  },
  "kernelspec": {
   "display_name": "Python 3",
   "language": "python",
   "name": "python3"
  },
  "language_info": {
   "codemirror_mode": {
    "name": "ipython",
    "version": 3
   },
   "file_extension": ".py",
   "mimetype": "text/x-python",
   "name": "python",
   "nbconvert_exporter": "python",
   "pygments_lexer": "ipython3",
   "version": "3.7.4"
  }
 },
 "nbformat": 4,
 "nbformat_minor": 1
}
